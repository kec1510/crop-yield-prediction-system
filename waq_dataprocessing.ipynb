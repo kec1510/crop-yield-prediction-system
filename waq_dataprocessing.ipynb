{
 "cells": [
  {
   "cell_type": "code",
   "execution_count": 35,
   "source": [
    "import rasterio as rio\n",
    "import matplotlib.pyplot as plt\n",
    "import numpy as np\n",
    "from PIL import Image\n",
    "np.set_printoptions(suppress=True)"
   ],
   "outputs": [],
   "metadata": {}
  },
  {
   "cell_type": "code",
   "execution_count": 28,
   "source": [
    "def interp_pix_arrays(img_bands, band: int):\n",
    "    im = Image.fromarray(img_bands[band, :, :])\n",
    "    im = im.resize((294, 331), resample=3) # bicubic interpolation --> negative values; bilinear interpolation --> no negative values\n",
    "    pix = np.array(im)\n",
    "    return pix"
   ],
   "outputs": [],
   "metadata": {}
  },
  {
   "cell_type": "code",
   "execution_count": 25,
   "source": [
    "# Explore gfs image\n",
    "loc1_apr_gfs = rio.open('data/ee/weather-aq-datalayer-location1/gfs/waq_location1_apr_gfs.tif')\n",
    "loc1_apr_o3 = rio.open(folder_path + 'o3/waq_location1_apr_o3.tif')\n",
    "\n",
    "temp = loc1_apr_gfs.read(1)\n",
    "density = loc1_apr_o3.read(1)\n",
    "density.shape"
   ],
   "outputs": [
    {
     "output_type": "execute_result",
     "data": {
      "text/plain": [
       "(835, 1164)"
      ]
     },
     "metadata": {},
     "execution_count": 25
    }
   ],
   "metadata": {}
  },
  {
   "cell_type": "code",
   "execution_count": 33,
   "source": [
    "def gfs_to_array(path):\n",
    "    gfs_img = rio.open(path)\n",
    "    gfs_allbands = gfs_img.read()\n",
    "    shp = gfs_allbands.shape\n",
    "\n",
    "    data = []\n",
    "    for band in range(1, 4): # cutting 21, 22, 23\n",
    "        pix = interp_pix_arrays(gfs_allbands, band)\n",
    "        data.append(pix)\n",
    "        \n",
    "    data = np.stack(data)    \n",
    "    print(data.shape)\n",
    "    \n",
    "    return data"
   ],
   "outputs": [],
   "metadata": {}
  },
  {
   "cell_type": "code",
   "execution_count": 42,
   "source": [
    "def s5p_to_array(path):\n",
    "    s5p_img = rio.open(path)\n",
    "    s5p_allbands = s5p_img.read()\n",
    "    \n",
    "    data = []\n",
    "    pix = interp_pix_arrays(s5p_allbands, 1)\n",
    "    data.append(pix)\n",
    "        \n",
    "    data = np.stack(data)    \n",
    "    print(data.shape)\n",
    "    \n",
    "    return data"
   ],
   "outputs": [],
   "metadata": {}
  },
  {
   "cell_type": "code",
   "execution_count": 39,
   "source": [
    "folder_path = 'data/ee/weather-aq-datalayer-location1/'\n",
    "\n",
    "def waq_location1(dataset):\n",
    "    waq_data = []\n",
    "    waq_path = 'data/ee/weather-aq-datalayer-location1/' + dataset + '/'\n",
    "    for filename in os.listdir(waq_path):\n",
    "        if filename.endswith(\".tif\"): \n",
    "            path = waq_path + filename\n",
    "            \n",
    "            if dataset == 'gfs':\n",
    "                data = gfs_to_array(path)\n",
    "            else:\n",
    "                data = s5p_to_array(path)\n",
    "\n",
    "            waq_data.append(data)\n",
    "            continue\n",
    "\n",
    "        else:\n",
    "            continue\n",
    "\n",
    "    print('WAQ data for {} dataset compiled'.format(dataset))\n",
    "    waq_data_final = np.stack(waq_data)\n",
    "    \n",
    "    waq_data_final = np.concatenate(waq_data_final, axis=1)\n",
    "    waq_data_final = np.nan_to_num(waq_data_final)\n",
    "\n",
    "    # print(waq_data_final.shape)\n",
    "\n",
    "    return waq_data_final"
   ],
   "outputs": [],
   "metadata": {}
  },
  {
   "cell_type": "code",
   "execution_count": 44,
   "source": [
    "gfs_array = waq_location1('gfs')\n",
    "no2_array = waq_location1('no2')\n",
    "so2_array = waq_location1('so2')\n",
    "o3_array = waq_location1('o3')"
   ],
   "outputs": [
    {
     "output_type": "stream",
     "name": "stdout",
     "text": [
      "(3, 331, 294)\n",
      "(3, 331, 294)\n",
      "(3, 331, 294)\n",
      "(3, 331, 294)\n",
      "WAQ data for gfs dataset compiled\n",
      "(3, 1324, 294)\n",
      "(1, 331, 294)\n",
      "(1, 331, 294)\n",
      "(1, 331, 294)\n",
      "(1, 331, 294)\n",
      "WAQ data for no2 dataset compiled\n",
      "(1, 1324, 294)\n",
      "(1, 331, 294)\n",
      "(1, 331, 294)\n",
      "(1, 331, 294)\n",
      "(1, 331, 294)\n",
      "WAQ data for so2 dataset compiled\n",
      "(1, 1324, 294)\n",
      "(1, 331, 294)\n",
      "(1, 331, 294)\n",
      "(1, 331, 294)\n",
      "(1, 331, 294)\n",
      "WAQ data for o3 dataset compiled\n",
      "(1, 1324, 294)\n"
     ]
    }
   ],
   "metadata": {}
  },
  {
   "cell_type": "code",
   "execution_count": 53,
   "source": [
    "aq_array = np.concatenate([no2_array, so2_array, o3_array], axis=0)\n",
    "waq_array = np.concatenate([gfs_array, aq_array], axis=0)\n",
    "waq_array[0, 0, 0]"
   ],
   "outputs": [
    {
     "output_type": "execute_result",
     "data": {
      "text/plain": [
       "0.007300396"
      ]
     },
     "metadata": {},
     "execution_count": 53
    }
   ],
   "metadata": {}
  },
  {
   "cell_type": "code",
   "execution_count": 56,
   "source": [
    "rows, cols = np.mgrid[slice(waq_array.shape[1]), slice(waq_array.shape[2])]\n",
    "\n",
    "import itertools as it\n",
    "\n",
    "pix_1d_rows = []\n",
    "for col in range(0, 294):    \n",
    "    for row in range(0, 1324):\n",
    "        out = waq_array[:, row, col]\n",
    "        # print(out.shape)\n",
    "        pix_1d_rows.append(out)\n",
    "\n",
    "len(pix_1d_rows)"
   ],
   "outputs": [
    {
     "output_type": "execute_result",
     "data": {
      "text/plain": [
       "389256"
      ]
     },
     "metadata": {},
     "execution_count": 56
    }
   ],
   "metadata": {}
  },
  {
   "cell_type": "code",
   "execution_count": 57,
   "source": [
    "waq_2d_final = np.stack(pix_1d_rows, axis=0)\n",
    "# np.unique(pix_2darray_final, return_counts=True)\n",
    "# pix_2darray_final.shape\n",
    "np.save('weather-aq-datalayer-final.npy', waq_2d_final)"
   ],
   "outputs": [],
   "metadata": {}
  },
  {
   "cell_type": "code",
   "execution_count": null,
   "source": [],
   "outputs": [],
   "metadata": {}
  }
 ],
 "metadata": {
  "orig_nbformat": 4,
  "language_info": {
   "name": "python",
   "version": "3.8.5",
   "mimetype": "text/x-python",
   "codemirror_mode": {
    "name": "ipython",
    "version": 3
   },
   "pygments_lexer": "ipython3",
   "nbconvert_exporter": "python",
   "file_extension": ".py"
  },
  "kernelspec": {
   "name": "python3",
   "display_name": "Python 3.8.5 64-bit ('.research-2021': venv)"
  },
  "interpreter": {
   "hash": "53bb265bfb9eebaee14a98b383f62b4b53607744aa74de014ecb253352e70143"
  }
 },
 "nbformat": 4,
 "nbformat_minor": 2
}