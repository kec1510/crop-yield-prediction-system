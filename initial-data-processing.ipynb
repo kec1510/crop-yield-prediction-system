{
  "cells": [
    {
      "cell_type": "markdown",
      "source": [
        "# Importing Packages\n",
        "\n",
        "* rasterio and matplotlib packages used to open, read, and visualize S2 images"
      ],
      "metadata": {}
    },
    {
      "cell_type": "code",
      "execution_count": 4,
      "source": [
        "import rasterio as rio\n",
        "import matplotlib.pyplot as plt\n",
        "import numpy as np\n",
        "np.set_printoptions(suppress=True)\n",
        "from PIL import Image\n",
        "import os\n",
        "import pandas as pd\n",
        "import itertools as it"
      ],
      "outputs": [],
      "metadata": {
        "id": "OElNuU9TLyUv"
      }
    },
    {
      "cell_type": "markdown",
      "source": [
        "# Image Preprocessing: Streamlined Functions"
      ],
      "metadata": {}
    },
    {
      "cell_type": "code",
      "execution_count": 5,
      "source": [
        "def save_cdl_img(path):\n",
        "    cdl = rio.open(path)\n",
        "    cdl_band = cdl.read()[0]\n",
        "    cdl_im = Image.fromarray(cdl_band)\n",
        "    cdl_im = cdl_im.resize((294, 331), resample=0) # nearest neighbor interpolation (can't mess with the cdl labels)\n",
        "    cdl_pix = np.array(cdl_im)\n",
        "    \n",
        "    return cdl_pix"
      ],
      "outputs": [],
      "metadata": {}
    },
    {
      "cell_type": "code",
      "execution_count": 10,
      "source": [
        "# np array data to image, running interpolation, converting back to array\n",
        "def interp_pix_arrays(img_bands, band: int):\n",
        "    im = Image.fromarray(img_bands[band, :, :] * 255)\n",
        "    im = im.resize((294, 331), resample=3) # bicubic interpolation --> negative values; bilinear interpolation --> no negative values\n",
        "    pix = np.array(im) / 255\n",
        "    return pix"
      ],
      "outputs": [],
      "metadata": {}
    },
    {
      "cell_type": "code",
      "execution_count": 6,
      "source": [
        "def s2_to_array(path):\n",
        "    s2_10 = rio.open(path)\n",
        "    s2_allbands = s2_10.read()\n",
        "    shp = s2_allbands.shape\n",
        "\n",
        "    data = []\n",
        "    for band in range(0, 21): # cutting 21, 22, 23\n",
        "        pix = interp_pix_arrays(s2_allbands, band)\n",
        "        data.append(pix)\n",
        "        \n",
        "    data = np.stack(data)    \n",
        "    print(data.shape)\n",
        "    \n",
        "    return data"
      ],
      "outputs": [],
      "metadata": {}
    },
    {
      "cell_type": "code",
      "execution_count": 7,
      "source": [
        "# Saving CDL data\n",
        "cdl_data = []\n",
        "cdl_imgs = 'data/ee/cdl_imgs/'\n",
        "for filename in os.listdir(cdl_imgs):\n",
        "    if filename.endswith(\".tif\"): \n",
        "        path = cdl_imgs + filename\n",
        "        data = save_cdl_img(path)\n",
        "        cdl_data.append(data)\n",
        "        continue\n",
        "    else:\n",
        "        continue\n",
        "\n",
        "cdl_data = np.stack(cdl_data)\n",
        "cdl_data_final = np.concatenate(cdl_data, axis=0)\n",
        "print(cdl_data_final.shape)\n",
        "\n",
        "np.save('cdl-array.npy', cdl_data_final)"
      ],
      "outputs": [
        {
          "output_type": "stream",
          "name": "stdout",
          "text": [
            "(3310, 294)\n"
          ]
        }
      ],
      "metadata": {}
    },
    {
      "cell_type": "code",
      "execution_count": 11,
      "source": [
        "def s2_difftimes(month):\n",
        "    s2_month_data = []\n",
        "    s2_imgs = 'data/ee/s2_imgs/' + month + '/'\n",
        "    for filename in os.listdir(s2_imgs):\n",
        "        if filename.endswith(\".tif\"): \n",
        "            path = s2_imgs + filename\n",
        "            data = s2_to_array(path)\n",
        "            s2_month_data.append(data)\n",
        "            continue\n",
        "        else:\n",
        "            continue\n",
        "\n",
        "    print('S2 data for month of {} compiled'.format(month))\n",
        "    s2_month_data = np.stack(s2_month_data)\n",
        "    \n",
        "    s2_month_data = np.concatenate(s2_month_data, axis=1)\n",
        "    s2_month_data = np.nan_to_num(s2_month_data)\n",
        "\n",
        "    return s2_month_data"
      ],
      "outputs": [],
      "metadata": {}
    },
    {
      "cell_type": "code",
      "execution_count": 12,
      "source": [
        "months = ['oct', 'jan', 'apr', 'jul']\n",
        "data = []\n",
        "\n",
        "for m in months:\n",
        "    month_data = s2_difftimes(m)\n",
        "    data.append(month_data)\n",
        "\n",
        "s2_data = np.vstack(data)\n",
        "s2_data.shape"
      ],
      "outputs": [
        {
          "output_type": "stream",
          "name": "stdout",
          "text": [
            "(21, 331, 294)\n",
            "(21, 331, 294)\n",
            "(21, 331, 294)\n",
            "(21, 331, 294)\n",
            "(21, 331, 294)\n",
            "(21, 331, 294)\n",
            "(21, 331, 294)\n",
            "(21, 331, 294)\n",
            "(21, 331, 294)\n",
            "(21, 331, 294)\n",
            "S2 data for month of oct compiled\n",
            "(21, 3310, 294)\n",
            "(21, 331, 294)\n",
            "(21, 331, 294)\n",
            "(21, 331, 294)\n",
            "(21, 331, 294)\n",
            "(21, 331, 294)\n",
            "(21, 331, 294)\n",
            "(21, 331, 294)\n",
            "(21, 331, 294)\n",
            "(21, 331, 294)\n",
            "(21, 331, 294)\n",
            "S2 data for month of jan compiled\n",
            "(21, 3310, 294)\n",
            "(21, 331, 294)\n",
            "(21, 331, 294)\n",
            "(21, 331, 294)\n",
            "(21, 331, 294)\n",
            "(21, 331, 294)\n",
            "(21, 331, 294)\n",
            "(21, 331, 294)\n",
            "(21, 331, 294)\n",
            "(21, 331, 294)\n",
            "(21, 331, 294)\n",
            "S2 data for month of apr compiled\n",
            "(21, 3310, 294)\n",
            "(21, 331, 294)\n",
            "(21, 331, 294)\n",
            "(21, 331, 294)\n",
            "(21, 331, 294)\n",
            "(21, 331, 294)\n",
            "(21, 331, 294)\n",
            "(21, 331, 294)\n",
            "(21, 331, 294)\n",
            "(21, 331, 294)\n",
            "(21, 331, 294)\n",
            "S2 data for month of jul compiled\n",
            "(21, 3310, 294)\n"
          ]
        },
        {
          "output_type": "execute_result",
          "data": {
            "text/plain": [
              "(84, 3310, 294)"
            ]
          },
          "metadata": {},
          "execution_count": 12
        }
      ],
      "metadata": {}
    },
    {
      "cell_type": "code",
      "execution_count": 13,
      "source": [
        "s2_data.shape"
      ],
      "outputs": [
        {
          "output_type": "execute_result",
          "data": {
            "text/plain": [
              "(84, 3310, 294)"
            ]
          },
          "metadata": {},
          "execution_count": 13
        }
      ],
      "metadata": {}
    },
    {
      "cell_type": "code",
      "execution_count": 19,
      "source": [
        "len(s2_data[:,0,0])"
      ],
      "outputs": [
        {
          "output_type": "execute_result",
          "data": {
            "text/plain": [
              "84"
            ]
          },
          "metadata": {},
          "execution_count": 19
        }
      ],
      "metadata": {}
    },
    {
      "cell_type": "code",
      "execution_count": 20,
      "source": [
        "# s2_data_final = np.concatenate(s2_data, axis=1)\n",
        "# np.unique(s2_data).size\n",
        "np.save('training-data-draft.npy', s2_data)"
      ],
      "outputs": [],
      "metadata": {}
    },
    {
      "cell_type": "markdown",
      "source": [
        "# Finalize Data"
      ],
      "metadata": {}
    },
    {
      "cell_type": "code",
      "execution_count": 21,
      "source": [
        "# Load s2 data\n",
        "pix_3darray = np.load('training-data-draft.npy')\n",
        "pix_3darray.shape\n",
        "# pix_3darray[:, 0, 0]"
      ],
      "outputs": [
        {
          "output_type": "execute_result",
          "data": {
            "text/plain": [
              "(84, 3310, 294)"
            ]
          },
          "metadata": {},
          "execution_count": 21
        }
      ],
      "metadata": {}
    },
    {
      "cell_type": "code",
      "execution_count": 22,
      "source": [
        "# Load cdl data\n",
        "cdl_array = np.load('cdl-array.npy')\n",
        "np.unique(cdl_array)"
      ],
      "outputs": [
        {
          "output_type": "execute_result",
          "data": {
            "text/plain": [
              "array([  1,   2,   3,   4,   5,   6,  10,  12,  13,  14,  21,  23,  24,\n",
              "        26,  27,  28,  29,  31,  32,  33,  35,  36,  37,  41,  42,  43,\n",
              "        44,  46,  48,  49,  51,  52,  53,  57,  58,  59,  61,  66,  67,\n",
              "        68,  69,  70,  74,  77, 111, 121, 122, 123, 124, 131, 141, 142,\n",
              "       143, 152, 176, 190, 195, 205, 206, 208, 220, 225, 228, 229, 236,\n",
              "       238, 240, 242, 246], dtype=uint8)"
            ]
          },
          "metadata": {},
          "execution_count": 22
        }
      ],
      "metadata": {}
    },
    {
      "cell_type": "code",
      "execution_count": 23,
      "source": [
        "# Prep cdl data with my groupings\n",
        "df = pd.read_csv('data/CDL Numerical Codes + New Groups.csv')\n",
        "grps_dict = {\n",
        "    'old': df['CDL Value'].tolist(),\n",
        "    'new': df['New Value'].tolist()\n",
        "} "
      ],
      "outputs": [],
      "metadata": {}
    },
    {
      "cell_type": "code",
      "execution_count": 24,
      "source": [
        "for count, value in enumerate(grps_dict['old']):\n",
        "    cdl_array[cdl_array == value] = grps_dict['new'][count]\n",
        "\n",
        "np.unique(cdl_array, return_counts=True)"
      ],
      "outputs": [
        {
          "output_type": "execute_result",
          "data": {
            "text/plain": [
              "(array([  1,   2,   3,   5,   6,  22,  44,  88, 200], dtype=uint8),\n",
              " array([191014,  46570,  61282, 191287,  16717, 160132, 132476, 146687,\n",
              "         26975]))"
            ]
          },
          "metadata": {},
          "execution_count": 24
        }
      ],
      "metadata": {}
    },
    {
      "cell_type": "code",
      "execution_count": 27,
      "source": [
        "rows, cols = np.mgrid[slice(pix_3darray.shape[1]), slice(pix_3darray.shape[2])]\n",
        "\n",
        "pix_1d_rows = []\n",
        "for col in range(0, 294):    \n",
        "    for row in range(0, 3310):\n",
        "        s2 = pix_3darray[:, row, col]\n",
        "        cdl_val = [cdl_array[row, col]]\n",
        "        out = np.append(s2, cdl_val, axis=0)\n",
        "        # print(out.shape)\n",
        "        pix_1d_rows.append(out)\n",
        "\n",
        "len(pix_1d_rows)"
      ],
      "outputs": [
        {
          "output_type": "execute_result",
          "data": {
            "text/plain": [
              "973140"
            ]
          },
          "metadata": {},
          "execution_count": 27
        }
      ],
      "metadata": {}
    },
    {
      "cell_type": "code",
      "execution_count": 28,
      "source": [
        "pix_2darray_final = np.stack(pix_1d_rows, axis=0)\n",
        "np.unique(pix_2darray_final, return_counts=True)\n",
        "np.save('training-data-final.npy', pix_2darray_final)"
      ],
      "outputs": [],
      "metadata": {}
    }
  ],
  "metadata": {
    "colab": {
      "name": "exploring-data.ipynb",
      "provenance": []
    },
    "interpreter": {
      "hash": "53bb265bfb9eebaee14a98b383f62b4b53607744aa74de014ecb253352e70143"
    },
    "kernelspec": {
      "name": "python3",
      "display_name": "Python 3.8.5 64-bit ('.research-2021': venv)"
    },
    "language_info": {
      "codemirror_mode": {
        "name": "ipython",
        "version": 3
      },
      "file_extension": ".py",
      "mimetype": "text/x-python",
      "name": "python",
      "nbconvert_exporter": "python",
      "pygments_lexer": "ipython3",
      "version": "3.8.5"
    }
  },
  "nbformat": 4,
  "nbformat_minor": 2
}